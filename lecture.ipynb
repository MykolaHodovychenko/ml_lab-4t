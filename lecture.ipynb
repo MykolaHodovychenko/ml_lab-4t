{
 "cells": [
  {
   "cell_type": "code",
   "execution_count": null,
   "metadata": {},
   "outputs": [],
   "source": []
  },
  {
   "cell_type": "markdown",
   "metadata": {},
   "source": [
    "# Лекция"
   ]
  }
 ],
 "metadata": {
  "kernelspec": {
   "display_name": "Python 3.10.6 64-bit",
   "language": "python",
   "name": "python3"
  },
  "language_info": {
   "name": "python",
   "version": "3.10.6"
  },
  "orig_nbformat": 4,
  "vscode": {
   "interpreter": {
    "hash": "9ea90fbd27ed204009a3a4024707682487982127fbbda83fe7c9879a0c484089"
   }
  }
 },
 "nbformat": 4,
 "nbformat_minor": 2
}
